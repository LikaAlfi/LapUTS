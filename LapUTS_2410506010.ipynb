{
  "nbformat": 4,
  "nbformat_minor": 0,
  "metadata": {
    "colab": {
      "provenance": [],
      "authorship_tag": "ABX9TyOvj0yTVeR+ApQDnBWHG+bz",
      "include_colab_link": true
    },
    "kernelspec": {
      "name": "python3",
      "display_name": "Python 3"
    },
    "language_info": {
      "name": "python"
    }
  },
  "cells": [
    {
      "cell_type": "markdown",
      "metadata": {
        "id": "view-in-github",
        "colab_type": "text"
      },
      "source": [
        "<a href=\"https://colab.research.google.com/github/LikaAlfi/LapUTS/blob/main/LapUTS_2410506010.ipynb\" target=\"_parent\"><img src=\"https://colab.research.google.com/assets/colab-badge.svg\" alt=\"Open In Colab\"/></a>"
      ]
    },
    {
      "cell_type": "code",
      "execution_count": null,
      "metadata": {
        "colab": {
          "base_uri": "https://localhost:8080/"
        },
        "id": "ivLMEBVVoBI-",
        "outputId": "a008ead9-f9cf-4086-a556-e9cfbd9fd5d0"
      },
      "outputs": [
        {
          "output_type": "stream",
          "name": "stdout",
          "text": [
            "masukkan NPM anda : 2410506010\n",
            "Jumlah bilangan genap   : 7\n",
            "Jumlah bilangan ganjil  : 3\n"
          ]
        }
      ],
      "source": [
        "# live codding\n",
        "\n",
        "NPM = input(\"masukkan NPM anda : \")\n",
        "ganjil = 0\n",
        "genap = 0\n",
        "\n",
        "for angka in NPM:\n",
        "  if int(angka) % 2 == 0:\n",
        "    genap += 1\n",
        "  else:\n",
        "    ganjil += 1\n",
        "\n",
        "print(f\"Jumlah bilangan genap   : {genap}\")\n",
        "print(f\"Jumlah bilangan ganjil  : {ganjil}\")"
      ]
    },
    {
      "cell_type": "code",
      "source": [
        "# segitiga angka\n",
        "\n",
        "b = int(input(\"masukkan jumlah baris : \"))\n",
        "for i in range(1, b + 1):\n",
        "  a = i\n",
        "  for j in range(1, i + 1):\n",
        "    print(a, end=\" \")\n",
        "    a += i\n",
        "  print()\n"
      ],
      "metadata": {
        "colab": {
          "base_uri": "https://localhost:8080/"
        },
        "id": "zAmNOOUPyywe",
        "outputId": "e21198cd-1905-4489-a112-fe915a520ed9"
      },
      "execution_count": 1,
      "outputs": [
        {
          "output_type": "stream",
          "name": "stdout",
          "text": [
            "masukkan jumlah baris : 10\n",
            "1 \n",
            "2 4 \n",
            "3 6 9 \n",
            "4 8 12 16 \n",
            "5 10 15 20 25 \n",
            "6 12 18 24 30 36 \n",
            "7 14 21 28 35 42 49 \n",
            "8 16 24 32 40 48 56 64 \n",
            "9 18 27 36 45 54 63 72 81 \n",
            "10 20 30 40 50 60 70 80 90 100 \n"
          ]
        }
      ]
    }
  ]
}